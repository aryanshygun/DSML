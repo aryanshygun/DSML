{
 "cells": [
  {
   "cell_type": "code",
   "execution_count": 1,
   "id": "21538028",
   "metadata": {},
   "outputs": [],
   "source": [
    "import pandas as pd"
   ]
  },
  {
   "cell_type": "code",
   "execution_count": null,
   "id": "70882fd5",
   "metadata": {},
   "outputs": [],
   "source": [
    "data = pd.read_csv('../datasets/car-sales-extended-missing-data.csv')"
   ]
  },
  {
   "cell_type": "code",
   "execution_count": 3,
   "id": "c5edf429",
   "metadata": {},
   "outputs": [
    {
     "data": {
      "text/plain": [
       "Make             49\n",
       "Colour           50\n",
       "Odometer (KM)    50\n",
       "Doors            50\n",
       "Price            50\n",
       "dtype: int64"
      ]
     },
     "execution_count": 3,
     "metadata": {},
     "output_type": "execute_result"
    }
   ],
   "source": [
    "data.isnull().sum()"
   ]
  },
  {
   "cell_type": "markdown",
   "id": "2c481611",
   "metadata": {},
   "source": [
    "here we decided to have all the nulls in KM be filled with the mean average of others"
   ]
  },
  {
   "cell_type": "code",
   "execution_count": 4,
   "id": "c14bed9e",
   "metadata": {},
   "outputs": [],
   "source": [
    "data['Odometer (KM)'] = data['Odometer (KM)'].fillna(data['Odometer (KM)'].mean())"
   ]
  },
  {
   "cell_type": "markdown",
   "id": "99c0a199",
   "metadata": {},
   "source": [
    "the first 2 tell us the number of records in our dataset, while the last one tells us the number of values in each column."
   ]
  },
  {
   "cell_type": "code",
   "execution_count": 5,
   "id": "41ac3e4b",
   "metadata": {},
   "outputs": [
    {
     "data": {
      "text/plain": [
       "(1000,\n",
       " 1000,\n",
       " Make              951\n",
       " Colour            950\n",
       " Odometer (KM)    1000\n",
       " Doors             950\n",
       " Price             950\n",
       " dtype: int64)"
      ]
     },
     "execution_count": 5,
     "metadata": {},
     "output_type": "execute_result"
    }
   ],
   "source": [
    "len(data), data.shape[0], data.count()"
   ]
  },
  {
   "cell_type": "markdown",
   "id": "a171668c",
   "metadata": {},
   "source": [
    "now we might want to just straight up drop the records with NaN values in a specific column\n",
    "\n",
    "the code below wont work"
   ]
  },
  {
   "cell_type": "code",
   "execution_count": 6,
   "id": "11f7a498",
   "metadata": {},
   "outputs": [],
   "source": [
    "# data['Colour'] = data['Colour'].dropna(data['Colour'].isnull())"
   ]
  },
  {
   "cell_type": "markdown",
   "id": "f918db96",
   "metadata": {},
   "source": [
    "we have two ways: we can either use assingment with notna. essentially we are replacing the before data with data that only has data that isnt NaN in the mentioned column"
   ]
  },
  {
   "cell_type": "code",
   "execution_count": 7,
   "id": "8cb7996b",
   "metadata": {},
   "outputs": [],
   "source": [
    "data = data[data['Colour'].notna()]"
   ]
  },
  {
   "cell_type": "markdown",
   "id": "0b29ecda",
   "metadata": {},
   "source": [
    "or we can just use dropna with subset that has the list of columns we want to apply the rule to"
   ]
  },
  {
   "cell_type": "code",
   "execution_count": 8,
   "id": "1c03f6fc",
   "metadata": {},
   "outputs": [],
   "source": [
    "data.dropna(subset=['Colour', 'Doors'], inplace=True)"
   ]
  },
  {
   "cell_type": "markdown",
   "id": "a478f494",
   "metadata": {},
   "source": [
    "as you can see the amount of records has been reduced by 50 from colours and 50 from doors"
   ]
  },
  {
   "cell_type": "code",
   "execution_count": 9,
   "id": "dfc18e63",
   "metadata": {},
   "outputs": [
    {
     "data": {
      "text/plain": [
       "904"
      ]
     },
     "execution_count": 9,
     "metadata": {},
     "output_type": "execute_result"
    }
   ],
   "source": [
    "len(data)"
   ]
  },
  {
   "cell_type": "markdown",
   "id": "098414bb",
   "metadata": {},
   "source": [
    "here we can convert the data from one datatype to another. forexample the datatype of Doors was float while each of them are int numbers. we can convert them using .astype() "
   ]
  },
  {
   "cell_type": "code",
   "execution_count": 10,
   "id": "27fbcf98",
   "metadata": {},
   "outputs": [
    {
     "name": "stdout",
     "output_type": "stream",
     "text": [
      "<class 'pandas.core.frame.DataFrame'>\n",
      "Index: 904 entries, 0 to 999\n",
      "Data columns (total 5 columns):\n",
      " #   Column         Non-Null Count  Dtype  \n",
      "---  ------         --------------  -----  \n",
      " 0   Make           858 non-null    object \n",
      " 1   Colour         904 non-null    object \n",
      " 2   Odometer (KM)  904 non-null    float64\n",
      " 3   Doors          904 non-null    int64  \n",
      " 4   Price          860 non-null    float64\n",
      "dtypes: float64(2), int64(1), object(2)\n",
      "memory usage: 42.4+ KB\n"
     ]
    }
   ],
   "source": [
    "data['Doors'] = data['Doors'].astype(int)\n",
    "data.info()"
   ]
  },
  {
   "cell_type": "markdown",
   "id": "cc950863",
   "metadata": {},
   "source": [
    "here we delve into the preprocessing section: normalization\n",
    "\n",
    "it scales the data from unspecific numbers to a known and standard range. there are multiple methods to do this. one of them is using iqr"
   ]
  },
  {
   "cell_type": "code",
   "execution_count": 11,
   "id": "f702bd5c",
   "metadata": {},
   "outputs": [],
   "source": [
    "from sklearn.preprocessing import MinMaxScaler"
   ]
  },
  {
   "cell_type": "markdown",
   "id": "aacd2989",
   "metadata": {},
   "source": [
    "lets first drop the null values and sort the dataset based on its price from highest to lowest"
   ]
  },
  {
   "cell_type": "code",
   "execution_count": 12,
   "id": "85625db3",
   "metadata": {},
   "outputs": [],
   "source": [
    "data = data[data['Price'].notna()]\n",
    "data = data.sort_values(by='Price', ascending=False)"
   ]
  },
  {
   "cell_type": "markdown",
   "id": "21954d55",
   "metadata": {},
   "source": [
    "one way of normalization is using the MinMaxScaler() method. it scales the highest value to lowest value in a 1 to 0 scale as shown in the newly created column Scaled Price"
   ]
  },
  {
   "cell_type": "code",
   "execution_count": 13,
   "id": "b5c91429",
   "metadata": {},
   "outputs": [
    {
     "data": {
      "text/html": [
       "<div>\n",
       "<style scoped>\n",
       "    .dataframe tbody tr th:only-of-type {\n",
       "        vertical-align: middle;\n",
       "    }\n",
       "\n",
       "    .dataframe tbody tr th {\n",
       "        vertical-align: top;\n",
       "    }\n",
       "\n",
       "    .dataframe thead th {\n",
       "        text-align: right;\n",
       "    }\n",
       "</style>\n",
       "<table border=\"1\" class=\"dataframe\">\n",
       "  <thead>\n",
       "    <tr style=\"text-align: right;\">\n",
       "      <th></th>\n",
       "      <th>Make</th>\n",
       "      <th>Colour</th>\n",
       "      <th>Odometer (KM)</th>\n",
       "      <th>Doors</th>\n",
       "      <th>Price</th>\n",
       "      <th>Scaled Price</th>\n",
       "    </tr>\n",
       "  </thead>\n",
       "  <tbody>\n",
       "    <tr>\n",
       "      <th>906</th>\n",
       "      <td>BMW</td>\n",
       "      <td>White</td>\n",
       "      <td>16274.000000</td>\n",
       "      <td>5</td>\n",
       "      <td>52458.0</td>\n",
       "      <td>1.000000</td>\n",
       "    </tr>\n",
       "    <tr>\n",
       "      <th>720</th>\n",
       "      <td>BMW</td>\n",
       "      <td>White</td>\n",
       "      <td>57905.000000</td>\n",
       "      <td>3</td>\n",
       "      <td>50868.0</td>\n",
       "      <td>0.967984</td>\n",
       "    </tr>\n",
       "    <tr>\n",
       "      <th>55</th>\n",
       "      <td>BMW</td>\n",
       "      <td>White</td>\n",
       "      <td>79937.000000</td>\n",
       "      <td>5</td>\n",
       "      <td>48686.0</td>\n",
       "      <td>0.924047</td>\n",
       "    </tr>\n",
       "    <tr>\n",
       "      <th>978</th>\n",
       "      <td>BMW</td>\n",
       "      <td>White</td>\n",
       "      <td>85739.000000</td>\n",
       "      <td>5</td>\n",
       "      <td>48419.0</td>\n",
       "      <td>0.918670</td>\n",
       "    </tr>\n",
       "    <tr>\n",
       "      <th>272</th>\n",
       "      <td>BMW</td>\n",
       "      <td>White</td>\n",
       "      <td>23996.000000</td>\n",
       "      <td>5</td>\n",
       "      <td>48239.0</td>\n",
       "      <td>0.915046</td>\n",
       "    </tr>\n",
       "    <tr>\n",
       "      <th>...</th>\n",
       "      <td>...</td>\n",
       "      <td>...</td>\n",
       "      <td>...</td>\n",
       "      <td>...</td>\n",
       "      <td>...</td>\n",
       "      <td>...</td>\n",
       "    </tr>\n",
       "    <tr>\n",
       "      <th>406</th>\n",
       "      <td>Honda</td>\n",
       "      <td>Blue</td>\n",
       "      <td>210446.000000</td>\n",
       "      <td>4</td>\n",
       "      <td>3594.0</td>\n",
       "      <td>0.016069</td>\n",
       "    </tr>\n",
       "    <tr>\n",
       "      <th>86</th>\n",
       "      <td>Nissan</td>\n",
       "      <td>Blue</td>\n",
       "      <td>131253.237895</td>\n",
       "      <td>4</td>\n",
       "      <td>3300.0</td>\n",
       "      <td>0.010149</td>\n",
       "    </tr>\n",
       "    <tr>\n",
       "      <th>173</th>\n",
       "      <td>Nissan</td>\n",
       "      <td>Black</td>\n",
       "      <td>240536.000000</td>\n",
       "      <td>4</td>\n",
       "      <td>3247.0</td>\n",
       "      <td>0.009081</td>\n",
       "    </tr>\n",
       "    <tr>\n",
       "      <th>845</th>\n",
       "      <td>Toyota</td>\n",
       "      <td>Green</td>\n",
       "      <td>243177.000000</td>\n",
       "      <td>4</td>\n",
       "      <td>3125.0</td>\n",
       "      <td>0.006625</td>\n",
       "    </tr>\n",
       "    <tr>\n",
       "      <th>757</th>\n",
       "      <td>Nissan</td>\n",
       "      <td>Blue</td>\n",
       "      <td>233501.000000</td>\n",
       "      <td>4</td>\n",
       "      <td>2796.0</td>\n",
       "      <td>0.000000</td>\n",
       "    </tr>\n",
       "  </tbody>\n",
       "</table>\n",
       "<p>860 rows × 6 columns</p>\n",
       "</div>"
      ],
      "text/plain": [
       "       Make Colour  Odometer (KM)  Doors    Price  Scaled Price\n",
       "906     BMW  White   16274.000000      5  52458.0      1.000000\n",
       "720     BMW  White   57905.000000      3  50868.0      0.967984\n",
       "55      BMW  White   79937.000000      5  48686.0      0.924047\n",
       "978     BMW  White   85739.000000      5  48419.0      0.918670\n",
       "272     BMW  White   23996.000000      5  48239.0      0.915046\n",
       "..      ...    ...            ...    ...      ...           ...\n",
       "406   Honda   Blue  210446.000000      4   3594.0      0.016069\n",
       "86   Nissan   Blue  131253.237895      4   3300.0      0.010149\n",
       "173  Nissan  Black  240536.000000      4   3247.0      0.009081\n",
       "845  Toyota  Green  243177.000000      4   3125.0      0.006625\n",
       "757  Nissan   Blue  233501.000000      4   2796.0      0.000000\n",
       "\n",
       "[860 rows x 6 columns]"
      ]
     },
     "execution_count": 13,
     "metadata": {},
     "output_type": "execute_result"
    }
   ],
   "source": [
    "\n",
    "sc = MinMaxScaler()\n",
    "data[['Scaled Price']] = sc.fit_transform(data[['Price']])\n",
    "data"
   ]
  },
  {
   "cell_type": "markdown",
   "id": "e64e5433",
   "metadata": {},
   "source": [
    "we can get the first quentile and the last quentile and of the dataset ( remember it has to be a pandas file).\n",
    "then we get its iqr by subtracting them. these are all methamatics and standard practice that we will delve into deeper later on."
   ]
  },
  {
   "cell_type": "code",
   "execution_count": 14,
   "id": "d89e80a6",
   "metadata": {},
   "outputs": [],
   "source": [
    "q1 = data['Price'].quantile(0.25)\n",
    "q3 = data['Price'].quantile(0.75)\n",
    "iqr = q3 - q1\n",
    "\n",
    "\n",
    "lower = q1 - 1.5 * iqr\n",
    "upper = q3 + 1.5 * iqr\n"
   ]
  },
  {
   "cell_type": "markdown",
   "id": "b5ab1d1d",
   "metadata": {},
   "source": [
    "now we filter the data with assingment with 2 conditions. we need both to be through hense we use 'and' in between them. remember that this is pandas syntax not pain python so we use & instead of 'and'."
   ]
  },
  {
   "cell_type": "code",
   "execution_count": 15,
   "id": "5698637b",
   "metadata": {},
   "outputs": [],
   "source": [
    "data = data[(data['Price'] >= lower) & (data['Price'] <= upper)]\n"
   ]
  },
  {
   "cell_type": "markdown",
   "id": "436e2b6b",
   "metadata": {},
   "source": [
    "now a small part of the last quarter and first quarter are deleted from the file. we are essentially getting rid of the two extremes of the bell curve."
   ]
  },
  {
   "cell_type": "code",
   "execution_count": 16,
   "id": "5670984b",
   "metadata": {},
   "outputs": [
    {
     "data": {
      "text/html": [
       "<div>\n",
       "<style scoped>\n",
       "    .dataframe tbody tr th:only-of-type {\n",
       "        vertical-align: middle;\n",
       "    }\n",
       "\n",
       "    .dataframe tbody tr th {\n",
       "        vertical-align: top;\n",
       "    }\n",
       "\n",
       "    .dataframe thead th {\n",
       "        text-align: right;\n",
       "    }\n",
       "</style>\n",
       "<table border=\"1\" class=\"dataframe\">\n",
       "  <thead>\n",
       "    <tr style=\"text-align: right;\">\n",
       "      <th></th>\n",
       "      <th>Make</th>\n",
       "      <th>Colour</th>\n",
       "      <th>Odometer (KM)</th>\n",
       "      <th>Doors</th>\n",
       "      <th>Price</th>\n",
       "      <th>Scaled Price</th>\n",
       "    </tr>\n",
       "  </thead>\n",
       "  <tbody>\n",
       "    <tr>\n",
       "      <th>682</th>\n",
       "      <td>BMW</td>\n",
       "      <td>Black</td>\n",
       "      <td>54141.000000</td>\n",
       "      <td>5</td>\n",
       "      <td>37518.0</td>\n",
       "      <td>0.699166</td>\n",
       "    </tr>\n",
       "    <tr>\n",
       "      <th>837</th>\n",
       "      <td>BMW</td>\n",
       "      <td>Red</td>\n",
       "      <td>149413.000000</td>\n",
       "      <td>5</td>\n",
       "      <td>36864.0</td>\n",
       "      <td>0.685997</td>\n",
       "    </tr>\n",
       "    <tr>\n",
       "      <th>709</th>\n",
       "      <td>BMW</td>\n",
       "      <td>Blue</td>\n",
       "      <td>134103.000000</td>\n",
       "      <td>5</td>\n",
       "      <td>36109.0</td>\n",
       "      <td>0.670795</td>\n",
       "    </tr>\n",
       "    <tr>\n",
       "      <th>89</th>\n",
       "      <td>NaN</td>\n",
       "      <td>Blue</td>\n",
       "      <td>90249.000000</td>\n",
       "      <td>4</td>\n",
       "      <td>35988.0</td>\n",
       "      <td>0.668358</td>\n",
       "    </tr>\n",
       "    <tr>\n",
       "      <th>261</th>\n",
       "      <td>Toyota</td>\n",
       "      <td>White</td>\n",
       "      <td>61623.000000</td>\n",
       "      <td>4</td>\n",
       "      <td>35760.0</td>\n",
       "      <td>0.663767</td>\n",
       "    </tr>\n",
       "    <tr>\n",
       "      <th>...</th>\n",
       "      <td>...</td>\n",
       "      <td>...</td>\n",
       "      <td>...</td>\n",
       "      <td>...</td>\n",
       "      <td>...</td>\n",
       "      <td>...</td>\n",
       "    </tr>\n",
       "    <tr>\n",
       "      <th>406</th>\n",
       "      <td>Honda</td>\n",
       "      <td>Blue</td>\n",
       "      <td>210446.000000</td>\n",
       "      <td>4</td>\n",
       "      <td>3594.0</td>\n",
       "      <td>0.016069</td>\n",
       "    </tr>\n",
       "    <tr>\n",
       "      <th>86</th>\n",
       "      <td>Nissan</td>\n",
       "      <td>Blue</td>\n",
       "      <td>131253.237895</td>\n",
       "      <td>4</td>\n",
       "      <td>3300.0</td>\n",
       "      <td>0.010149</td>\n",
       "    </tr>\n",
       "    <tr>\n",
       "      <th>173</th>\n",
       "      <td>Nissan</td>\n",
       "      <td>Black</td>\n",
       "      <td>240536.000000</td>\n",
       "      <td>4</td>\n",
       "      <td>3247.0</td>\n",
       "      <td>0.009081</td>\n",
       "    </tr>\n",
       "    <tr>\n",
       "      <th>845</th>\n",
       "      <td>Toyota</td>\n",
       "      <td>Green</td>\n",
       "      <td>243177.000000</td>\n",
       "      <td>4</td>\n",
       "      <td>3125.0</td>\n",
       "      <td>0.006625</td>\n",
       "    </tr>\n",
       "    <tr>\n",
       "      <th>757</th>\n",
       "      <td>Nissan</td>\n",
       "      <td>Blue</td>\n",
       "      <td>233501.000000</td>\n",
       "      <td>4</td>\n",
       "      <td>2796.0</td>\n",
       "      <td>0.000000</td>\n",
       "    </tr>\n",
       "  </tbody>\n",
       "</table>\n",
       "<p>846 rows × 6 columns</p>\n",
       "</div>"
      ],
      "text/plain": [
       "       Make Colour  Odometer (KM)  Doors    Price  Scaled Price\n",
       "682     BMW  Black   54141.000000      5  37518.0      0.699166\n",
       "837     BMW    Red  149413.000000      5  36864.0      0.685997\n",
       "709     BMW   Blue  134103.000000      5  36109.0      0.670795\n",
       "89      NaN   Blue   90249.000000      4  35988.0      0.668358\n",
       "261  Toyota  White   61623.000000      4  35760.0      0.663767\n",
       "..      ...    ...            ...    ...      ...           ...\n",
       "406   Honda   Blue  210446.000000      4   3594.0      0.016069\n",
       "86   Nissan   Blue  131253.237895      4   3300.0      0.010149\n",
       "173  Nissan  Black  240536.000000      4   3247.0      0.009081\n",
       "845  Toyota  Green  243177.000000      4   3125.0      0.006625\n",
       "757  Nissan   Blue  233501.000000      4   2796.0      0.000000\n",
       "\n",
       "[846 rows x 6 columns]"
      ]
     },
     "execution_count": 16,
     "metadata": {},
     "output_type": "execute_result"
    }
   ],
   "source": [
    "data"
   ]
  }
 ],
 "metadata": {
  "kernelspec": {
   "display_name": "DSMLenv",
   "language": "python",
   "name": "python3"
  },
  "language_info": {
   "codemirror_mode": {
    "name": "ipython",
    "version": 3
   },
   "file_extension": ".py",
   "mimetype": "text/x-python",
   "name": "python",
   "nbconvert_exporter": "python",
   "pygments_lexer": "ipython3",
   "version": "3.13.2"
  }
 },
 "nbformat": 4,
 "nbformat_minor": 5
}
